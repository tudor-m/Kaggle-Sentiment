{
 "cells": [
  {
   "cell_type": "markdown",
   "metadata": {
    "_uuid": "50bc29d151fa6192be326cbc343ce0b6e40405b4"
   },
   "source": [
    "# Import packages"
   ]
  },
  {
   "cell_type": "code",
   "execution_count": 2,
   "metadata": {},
   "outputs": [
    {
     "name": "stdout",
     "output_type": "stream",
     "text": [
      "Collecting lightgbm\n",
      "\u001b[?25l  Downloading https://files.pythonhosted.org/packages/8c/74/46db81bbeca374e8a7e55a1ad3d857e99f2fe73bfe92f3e760b0bf6cf779/lightgbm-2.2.1-py2.py3-none-macosx_10_6_x86_64.macosx_10_7_x86_64.macosx_10_8_x86_64.macosx_10_9_x86_64.macosx_10_10_x86_64.macosx_10_11_x86_64.macosx_10_12_x86_64.macosx_10_13_x86_64.whl (635kB)\n",
      "\u001b[K    100% |████████████████████████████████| 645kB 4.7MB/s ta 0:00:011\n",
      "\u001b[?25hRequirement already satisfied: numpy in /usr/local/lib/python2.7/site-packages (from lightgbm) (1.14.0)\n",
      "Requirement already satisfied: scipy in /usr/local/lib/python2.7/site-packages/scipy-0.18.1-py2.7-macosx-10.12-x86_64.egg (from lightgbm) (0.18.1)\n",
      "Requirement already satisfied: scikit-learn in /usr/local/lib/python2.7/site-packages (from lightgbm) (0.18.1)\n",
      "Installing collected packages: lightgbm\n",
      "Successfully installed lightgbm-2.2.1\n"
     ]
    }
   ],
   "source": [
    "!pip install lightgbm --user"
   ]
  },
  {
   "cell_type": "code",
   "execution_count": 3,
   "metadata": {
    "_cell_guid": "b1076dfc-b9ad-4769-8c92-a6c4dae69d19",
    "_uuid": "8f2839f25d086af736a60e9eeb907d3b93b6e0e5"
   },
   "outputs": [
    {
     "ename": "OSError",
     "evalue": "dlopen(/Users/user/Library/Python/2.7/lib/python/site-packages/lightgbm/lib_lightgbm.so, 6): Library not loaded: /usr/local/opt/libomp/lib/libomp.dylib\n  Referenced from: /Users/user/Library/Python/2.7/lib/python/site-packages/lightgbm/lib_lightgbm.so\n  Reason: image not found",
     "output_type": "error",
     "traceback": [
      "\u001b[0;31m---------------------------------------------------------------------------\u001b[0m",
      "\u001b[0;31mOSError\u001b[0m                                   Traceback (most recent call last)",
      "\u001b[0;32m<ipython-input-3-4cb2693742b0>\u001b[0m in \u001b[0;36m<module>\u001b[0;34m()\u001b[0m\n\u001b[1;32m      1\u001b[0m \u001b[0;32mimport\u001b[0m \u001b[0mnumpy\u001b[0m \u001b[0;32mas\u001b[0m \u001b[0mnp\u001b[0m\u001b[0;34m\u001b[0m\u001b[0m\n\u001b[0;32m----> 2\u001b[0;31m \u001b[0;32mimport\u001b[0m \u001b[0mlightgbm\u001b[0m \u001b[0;32mas\u001b[0m \u001b[0mlgb\u001b[0m\u001b[0;34m\u001b[0m\u001b[0m\n\u001b[0m\u001b[1;32m      3\u001b[0m \u001b[0;32mimport\u001b[0m \u001b[0mpandas\u001b[0m \u001b[0;32mas\u001b[0m \u001b[0mpd\u001b[0m\u001b[0;34m\u001b[0m\u001b[0m\n\u001b[1;32m      4\u001b[0m \u001b[0;32mfrom\u001b[0m \u001b[0mkaggle\u001b[0m\u001b[0;34m.\u001b[0m\u001b[0mcompetitions\u001b[0m \u001b[0;32mimport\u001b[0m \u001b[0mtwosigmanews\u001b[0m\u001b[0;34m\u001b[0m\u001b[0m\n\u001b[1;32m      5\u001b[0m \u001b[0;32mimport\u001b[0m \u001b[0mmatplotlib\u001b[0m\u001b[0;34m.\u001b[0m\u001b[0mpyplot\u001b[0m \u001b[0;32mas\u001b[0m \u001b[0mplt\u001b[0m\u001b[0;34m\u001b[0m\u001b[0m\n",
      "\u001b[0;32m/Users/user/Library/Python/2.7/lib/python/site-packages/lightgbm/__init__.py\u001b[0m in \u001b[0;36m<module>\u001b[0;34m()\u001b[0m\n\u001b[1;32m      6\u001b[0m \u001b[0;32mfrom\u001b[0m \u001b[0m__future__\u001b[0m \u001b[0;32mimport\u001b[0m \u001b[0mabsolute_import\u001b[0m\u001b[0;34m\u001b[0m\u001b[0m\n\u001b[1;32m      7\u001b[0m \u001b[0;34m\u001b[0m\u001b[0m\n\u001b[0;32m----> 8\u001b[0;31m \u001b[0;32mfrom\u001b[0m \u001b[0;34m.\u001b[0m\u001b[0mbasic\u001b[0m \u001b[0;32mimport\u001b[0m \u001b[0mBooster\u001b[0m\u001b[0;34m,\u001b[0m \u001b[0mDataset\u001b[0m\u001b[0;34m\u001b[0m\u001b[0m\n\u001b[0m\u001b[1;32m      9\u001b[0m from .callback import (early_stopping, print_evaluation, record_evaluation,\n\u001b[1;32m     10\u001b[0m                        reset_parameter)\n",
      "\u001b[0;32m/Users/user/Library/Python/2.7/lib/python/site-packages/lightgbm/basic.py\u001b[0m in \u001b[0;36m<module>\u001b[0;34m()\u001b[0m\n\u001b[1;32m     32\u001b[0m \u001b[0;34m\u001b[0m\u001b[0m\n\u001b[1;32m     33\u001b[0m \u001b[0;34m\u001b[0m\u001b[0m\n\u001b[0;32m---> 34\u001b[0;31m \u001b[0m_LIB\u001b[0m \u001b[0;34m=\u001b[0m \u001b[0m_load_lib\u001b[0m\u001b[0;34m(\u001b[0m\u001b[0;34m)\u001b[0m\u001b[0;34m\u001b[0m\u001b[0m\n\u001b[0m\u001b[1;32m     35\u001b[0m \u001b[0;34m\u001b[0m\u001b[0m\n\u001b[1;32m     36\u001b[0m \u001b[0;34m\u001b[0m\u001b[0m\n",
      "\u001b[0;32m/Users/user/Library/Python/2.7/lib/python/site-packages/lightgbm/basic.py\u001b[0m in \u001b[0;36m_load_lib\u001b[0;34m()\u001b[0m\n\u001b[1;32m     27\u001b[0m     \u001b[0;32mif\u001b[0m \u001b[0mlen\u001b[0m\u001b[0;34m(\u001b[0m\u001b[0mlib_path\u001b[0m\u001b[0;34m)\u001b[0m \u001b[0;34m==\u001b[0m \u001b[0;36m0\u001b[0m\u001b[0;34m:\u001b[0m\u001b[0;34m\u001b[0m\u001b[0m\n\u001b[1;32m     28\u001b[0m         \u001b[0;32mreturn\u001b[0m \u001b[0mNone\u001b[0m\u001b[0;34m\u001b[0m\u001b[0m\n\u001b[0;32m---> 29\u001b[0;31m     \u001b[0mlib\u001b[0m \u001b[0;34m=\u001b[0m \u001b[0mctypes\u001b[0m\u001b[0;34m.\u001b[0m\u001b[0mcdll\u001b[0m\u001b[0;34m.\u001b[0m\u001b[0mLoadLibrary\u001b[0m\u001b[0;34m(\u001b[0m\u001b[0mlib_path\u001b[0m\u001b[0;34m[\u001b[0m\u001b[0;36m0\u001b[0m\u001b[0;34m]\u001b[0m\u001b[0;34m)\u001b[0m\u001b[0;34m\u001b[0m\u001b[0m\n\u001b[0m\u001b[1;32m     30\u001b[0m     \u001b[0mlib\u001b[0m\u001b[0;34m.\u001b[0m\u001b[0mLGBM_GetLastError\u001b[0m\u001b[0;34m.\u001b[0m\u001b[0mrestype\u001b[0m \u001b[0;34m=\u001b[0m \u001b[0mctypes\u001b[0m\u001b[0;34m.\u001b[0m\u001b[0mc_char_p\u001b[0m\u001b[0;34m\u001b[0m\u001b[0m\n\u001b[1;32m     31\u001b[0m     \u001b[0;32mreturn\u001b[0m \u001b[0mlib\u001b[0m\u001b[0;34m\u001b[0m\u001b[0m\n",
      "\u001b[0;32m/usr/local/Cellar/python@2/2.7.15_1/Frameworks/Python.framework/Versions/2.7/lib/python2.7/ctypes/__init__.pyc\u001b[0m in \u001b[0;36mLoadLibrary\u001b[0;34m(self, name)\u001b[0m\n\u001b[1;32m    442\u001b[0m \u001b[0;34m\u001b[0m\u001b[0m\n\u001b[1;32m    443\u001b[0m     \u001b[0;32mdef\u001b[0m \u001b[0mLoadLibrary\u001b[0m\u001b[0;34m(\u001b[0m\u001b[0mself\u001b[0m\u001b[0;34m,\u001b[0m \u001b[0mname\u001b[0m\u001b[0;34m)\u001b[0m\u001b[0;34m:\u001b[0m\u001b[0;34m\u001b[0m\u001b[0m\n\u001b[0;32m--> 444\u001b[0;31m         \u001b[0;32mreturn\u001b[0m \u001b[0mself\u001b[0m\u001b[0;34m.\u001b[0m\u001b[0m_dlltype\u001b[0m\u001b[0;34m(\u001b[0m\u001b[0mname\u001b[0m\u001b[0;34m)\u001b[0m\u001b[0;34m\u001b[0m\u001b[0m\n\u001b[0m\u001b[1;32m    445\u001b[0m \u001b[0;34m\u001b[0m\u001b[0m\n\u001b[1;32m    446\u001b[0m \u001b[0mcdll\u001b[0m \u001b[0;34m=\u001b[0m \u001b[0mLibraryLoader\u001b[0m\u001b[0;34m(\u001b[0m\u001b[0mCDLL\u001b[0m\u001b[0;34m)\u001b[0m\u001b[0;34m\u001b[0m\u001b[0m\n",
      "\u001b[0;32m/usr/local/Cellar/python@2/2.7.15_1/Frameworks/Python.framework/Versions/2.7/lib/python2.7/ctypes/__init__.pyc\u001b[0m in \u001b[0;36m__init__\u001b[0;34m(self, name, mode, handle, use_errno, use_last_error)\u001b[0m\n\u001b[1;32m    364\u001b[0m \u001b[0;34m\u001b[0m\u001b[0m\n\u001b[1;32m    365\u001b[0m         \u001b[0;32mif\u001b[0m \u001b[0mhandle\u001b[0m \u001b[0;32mis\u001b[0m \u001b[0mNone\u001b[0m\u001b[0;34m:\u001b[0m\u001b[0;34m\u001b[0m\u001b[0m\n\u001b[0;32m--> 366\u001b[0;31m             \u001b[0mself\u001b[0m\u001b[0;34m.\u001b[0m\u001b[0m_handle\u001b[0m \u001b[0;34m=\u001b[0m \u001b[0m_dlopen\u001b[0m\u001b[0;34m(\u001b[0m\u001b[0mself\u001b[0m\u001b[0;34m.\u001b[0m\u001b[0m_name\u001b[0m\u001b[0;34m,\u001b[0m \u001b[0mmode\u001b[0m\u001b[0;34m)\u001b[0m\u001b[0;34m\u001b[0m\u001b[0m\n\u001b[0m\u001b[1;32m    367\u001b[0m         \u001b[0;32melse\u001b[0m\u001b[0;34m:\u001b[0m\u001b[0;34m\u001b[0m\u001b[0m\n\u001b[1;32m    368\u001b[0m             \u001b[0mself\u001b[0m\u001b[0;34m.\u001b[0m\u001b[0m_handle\u001b[0m \u001b[0;34m=\u001b[0m \u001b[0mhandle\u001b[0m\u001b[0;34m\u001b[0m\u001b[0m\n",
      "\u001b[0;31mOSError\u001b[0m: dlopen(/Users/user/Library/Python/2.7/lib/python/site-packages/lightgbm/lib_lightgbm.so, 6): Library not loaded: /usr/local/opt/libomp/lib/libomp.dylib\n  Referenced from: /Users/user/Library/Python/2.7/lib/python/site-packages/lightgbm/lib_lightgbm.so\n  Reason: image not found"
     ]
    }
   ],
   "source": [
    "import numpy as np\n",
    "import lightgbm as lgb\n",
    "import pandas as pd\n",
    "from kaggle.competitions import twosigmanews\n",
    "import matplotlib.pyplot as plt\n",
    "import random\n",
    "from datetime import datetime, date\n",
    "from xgboost import XGBClassifier\n",
    "from sklearn import model_selection\n",
    "from sklearn.metrics import mean_squared_error\n",
    "import time"
   ]
  },
  {
   "cell_type": "markdown",
   "metadata": {
    "_cell_guid": "79c7e3d0-c299-4dcb-8224-4455121ee9b0",
    "_uuid": "d629ff2d2480ee46fbb7e2d37f6b5fab8052498a",
    "collapsed": true
   },
   "source": [
    "# Load Data"
   ]
  },
  {
   "cell_type": "code",
   "execution_count": null,
   "metadata": {
    "_uuid": "2a60d768ec157469fe0512b86356dace3c41233a"
   },
   "outputs": [],
   "source": [
    "env = twosigmanews.make_env()\n",
    "\n",
    "(market_train_df, news_train_df) = env.get_training_data()\n",
    "market_train, news_train = market_train_df.copy(), news_train_df.copy()"
   ]
  },
  {
   "cell_type": "code",
   "execution_count": null,
   "metadata": {},
   "outputs": [],
   "source": []
  },
  {
   "cell_type": "code",
   "execution_count": null,
   "metadata": {
    "_uuid": "18e28d137095d5b88b02accba9e190f2f07bf165"
   },
   "outputs": [],
   "source": [
    "news_train_df.head(2)"
   ]
  },
  {
   "cell_type": "markdown",
   "metadata": {
    "_uuid": "51d904e9fd57dc968c9808e0f86c43d553afc5ed"
   },
   "source": [
    "# Data prep"
   ]
  },
  {
   "cell_type": "code",
   "execution_count": null,
   "metadata": {
    "_uuid": "c4856c0a87ba664a6040bcda5b90caa15006b4b1"
   },
   "outputs": [],
   "source": [
    "def mis_impute(data):\n",
    "    for i in data.columns:\n",
    "        if data[i].dtype == \"object\":\n",
    "            data[i] = data[i].fillna(\"other\")\n",
    "        elif (data[i].dtype == \"int64\" or data[i].dtype == \"float64\"):\n",
    "            data[i] = data[i].fillna(data[i].mean())\n",
    "        else:\n",
    "            pass\n",
    "    return data\n",
    "\n",
    "market_train_df = mis_impute(market_train_df)\n",
    "\n",
    "def data_prep(market_train):\n",
    "    market_train.time = market_train.time.dt.date\n",
    "    lbl = {k: v for v, k in enumerate(market_train['assetCode'].unique())}\n",
    "    market_train['assetCodeT'] = market_train['assetCode'].map(lbl)\n",
    "    \n",
    "    market_train = market_train.dropna(axis=0)\n",
    "    \n",
    "    return market_train\n",
    "\n",
    "market_train = data_prep(market_train_df)\n",
    "\n",
    "# check the shape\n",
    "print(market_train.shape)"
   ]
  },
  {
   "cell_type": "code",
   "execution_count": null,
   "metadata": {
    "_uuid": "886507a9c0384f0919b922b5ff8e2764c9575e0c"
   },
   "outputs": [],
   "source": [
    "market_train = market_train.loc[market_train['time']>=date(2009, 1, 1)]\n",
    "up = market_train.returnsOpenNextMktres10 >= 0\n",
    "fcol = [c for c in market_train if c not in ['assetCode', 'assetCodes', 'assetCodesLen', 'assetName', 'audiences', \n",
    "                                             'firstCreated', 'headline', 'headlineTag', 'marketCommentary', 'provider', \n",
    "                                             'returnsOpenNextMktres10', 'sourceId', 'subjects', 'time', 'time_x', 'universe','sourceTimestamp']]\n",
    "\n",
    "X = market_train[fcol].values\n",
    "up = up.values\n",
    "r = market_train.returnsOpenNextMktres10.values\n",
    "\n",
    "# Scaling of X values\n",
    "# It is good to keep these scaling values for later\n",
    "mins = np.min(X, axis=0)\n",
    "maxs = np.max(X, axis=0)\n",
    "rng = maxs - mins\n",
    "X = 1 - ((maxs - X) / rng)\n",
    "\n",
    "# Sanity check\n",
    "assert X.shape[0] == up.shape[0] == r.shape[0]\n",
    "\n",
    "from xgboost import XGBClassifier\n",
    "from sklearn import model_selection\n",
    "from sklearn.metrics import mean_squared_error\n",
    "import time\n",
    "\n",
    "X_train, X_test, up_train, up_test, r_train, r_test = model_selection.train_test_split(X, up, r, test_size=0.25, random_state=99)\n",
    "\n",
    "train_data = lgb.Dataset(X_train, label=up_train.astype(int))\n",
    "test_data = lgb.Dataset(X_test, label=up_test.astype(int))"
   ]
  },
  {
   "cell_type": "markdown",
   "metadata": {
    "_uuid": "d49a70d9691361dcd2e06513fe44e83604f03ec2"
   },
   "source": [
    "# Tuning hyper-params with skopt"
   ]
  },
  {
   "cell_type": "code",
   "execution_count": null,
   "metadata": {
    "_kg_hide-output": true,
    "_uuid": "647493abe54d31de0e8662a46c51ff6f800d11e5"
   },
   "outputs": [],
   "source": [
    "'''\n",
    "# use this section if you want to customize optimization\n",
    "\n",
    "# define blackbox function\n",
    "def f(x):\n",
    "    print(x)\n",
    "    params = {\n",
    "        'task': 'train',\n",
    "        'boosting_type': 'dart',\n",
    "        'objective': 'binary',\n",
    "        'learning_rate': x[0],\n",
    "        'num_leaves': x[1],\n",
    "        'min_data_in_leaf': x[2],\n",
    "        'num_iteration': x[3],\n",
    "        'max_bin': x[4],\n",
    "        'verbose': 1\n",
    "    }\n",
    "    \n",
    "    gbm = lgb.train(params,\n",
    "            train_data,\n",
    "            num_boost_round=100,\n",
    "            valid_sets=test_data,\n",
    "            early_stopping_rounds=5)\n",
    "            \n",
    "    print(type(gbm.predict(X_test, num_iteration=gbm.best_iteration)[0]),type(up_test.astype(int)[0]))\n",
    "    \n",
    "    print('score: ', mean_squared_error(gbm.predict(X_test, num_iteration=gbm.best_iteration), up_test.astype(float)))\n",
    "    \n",
    "    return mean_squared_error(gbm.predict(X_test, num_iteration=gbm.best_iteration), up_test.astype(float))\n",
    "\n",
    "# optimize params in these ranges\n",
    "spaces = [\n",
    "    (0.19, 0.20), #learning_rate\n",
    "    (2450, 2600), #num_leaves\n",
    "    (210, 230), #min_data_in_leaf\n",
    "    (310, 330), #num_iteration\n",
    "    (200, 220) #max_bin\n",
    "    ]\n",
    "\n",
    "# run optimization\n",
    "from skopt import gp_minimize\n",
    "res = gp_minimize(\n",
    "    f, spaces,\n",
    "    acq_func=\"EI\",\n",
    "    n_calls=10) # increase n_calls for more performance\n",
    "\n",
    "# print tuned params\n",
    "print(res.x)\n",
    "\n",
    "# plot tuning process\n",
    "from skopt.plots import plot_convergence\n",
    "plot_convergence(res)\n",
    "'''"
   ]
  },
  {
   "cell_type": "markdown",
   "metadata": {
    "_uuid": "45c99e6b4fb86f54d020723d13031a923c8d3808"
   },
   "source": [
    "# Training with tuned params"
   ]
  },
  {
   "cell_type": "code",
   "execution_count": null,
   "metadata": {
    "_uuid": "b6ac689319157951828d4e4a713ae688ea5e618c"
   },
   "outputs": [],
   "source": [
    "# these are tuned params I found\n",
    "x_1 = [0.19000424246380565, 2452, 212, 328, 202]\n",
    "x_2 = [0.19016805202090095, 2583, 213, 312, 220]\n",
    "\n",
    "params_1 = {\n",
    "        'task': 'train',\n",
    "        'boosting_type': 'dart',\n",
    "        'objective': 'binary',\n",
    "        'learning_rate': x_1[0],\n",
    "        'num_leaves': x_1[1],\n",
    "        'min_data_in_leaf': x_1[2],\n",
    "        'num_iteration': x_1[3],\n",
    "        'max_bin': x_1[4],\n",
    "        'verbose': 1\n",
    "    }\n",
    "\n",
    "params_2 = {\n",
    "        'task': 'train',\n",
    "        'boosting_type': 'dart',\n",
    "        'objective': 'binary',\n",
    "        'learning_rate': x_2[0],\n",
    "        'num_leaves': x_2[1],\n",
    "        'min_data_in_leaf': x_2[2],\n",
    "        'num_iteration': x_2[3],\n",
    "        'max_bin': x_2[4],\n",
    "        'verbose': 1\n",
    "    }\n",
    "\n",
    "\n",
    "gbm_1 = lgb.train(params_1,\n",
    "        train_data,\n",
    "        num_boost_round=100,\n",
    "        valid_sets=test_data,\n",
    "        early_stopping_rounds=5)\n",
    "        \n",
    "gbm_2 = lgb.train(params_2,\n",
    "        train_data,\n",
    "        num_boost_round=100,\n",
    "        valid_sets=test_data,\n",
    "        early_stopping_rounds=5)\n",
    "        \n",
    "\n",
    "#prediction\n",
    "days = env.get_prediction_days()\n",
    "n_days = 0\n",
    "prep_time = 0\n",
    "prediction_time = 0\n",
    "packaging_time = 0\n",
    "for (market_obs_df, news_obs_df, predictions_template_df) in days:\n",
    "    n_days +=1\n",
    "    if (n_days%50==0):\n",
    "        print(n_days,end=' ')\n",
    "    t = time.time()\n",
    "    market_obs_df = data_prep(market_obs_df)\n",
    "    market_obs_df = market_obs_df[market_obs_df.assetCode.isin(predictions_template_df.assetCode)]\n",
    "    X_live = market_obs_df[fcol].values\n",
    "    X_live = 1 - ((maxs - X_live) / rng)\n",
    "    prep_time += time.time() - t\n",
    "    \n",
    "    t = time.time()\n",
    "    lp = (gbm_1.predict(X_live) + gbm_2.predict(X_live))/2\n",
    "    prediction_time += time.time() -t\n",
    "    \n",
    "    t = time.time()\n",
    "\n",
    "    confidence = lp\n",
    "    confidence = (confidence-confidence.min())/(confidence.max()-confidence.min())\n",
    "    confidence = confidence * 2 - 1\n",
    "    preds = pd.DataFrame({'assetCode':market_obs_df['assetCode'],'confidence':confidence})\n",
    "    predictions_template_df = predictions_template_df.merge(preds,how='left').drop('confidenceValue',axis=1).fillna(0).rename(columns={'confidence':'confidenceValue'})\n",
    "    env.predict(predictions_template_df)\n",
    "    packaging_time += time.time() - t\n",
    "    \n",
    "env.write_submission_file()\n",
    "sub  = pd.read_csv(\"submission.csv\")"
   ]
  },
  {
   "cell_type": "code",
   "execution_count": null,
   "metadata": {
    "_uuid": "7376622bed44ed4f009c47ed1d5acf177720f857"
   },
   "outputs": [],
   "source": []
  }
 ],
 "metadata": {
  "kernelspec": {
   "display_name": "Python 2",
   "language": "python",
   "name": "python2"
  },
  "language_info": {
   "codemirror_mode": {
    "name": "ipython",
    "version": 2
   },
   "file_extension": ".py",
   "mimetype": "text/x-python",
   "name": "python",
   "nbconvert_exporter": "python",
   "pygments_lexer": "ipython2",
   "version": "2.7.15"
  }
 },
 "nbformat": 4,
 "nbformat_minor": 1
}
